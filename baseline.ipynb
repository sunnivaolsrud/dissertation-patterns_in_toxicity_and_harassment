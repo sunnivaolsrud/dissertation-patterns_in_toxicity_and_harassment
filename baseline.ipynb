{
 "cells": [
  {
   "cell_type": "code",
   "execution_count": 1,
   "id": "603b9969-b325-4552-bd4f-b1b64786d947",
   "metadata": {},
   "outputs": [],
   "source": [
    "import pandas as pd\n",
    "import numpy as np\n",
    "import matplotlib.pyplot as plt\n",
    "import seaborn as sns\n",
    "from sklearn.feature_extraction.text import CountVectorizer\n",
    "from sklearn.linear_model import LogisticRegression\n",
    "from sklearn.feature_extraction.text import TfidfTransformer\n",
    "from sklearn.decomposition import TruncatedSVD\n",
    "from sklearn import metrics\n",
    "from sklearn.pipeline import Pipeline\n",
    "from scipy import stats\n",
    "from scipy.stats import pearsonr, spearmanr\n",
    "from sklearn.metrics import roc_auc_score\n",
    "source_folder = 'Data'"
   ]
  },
  {
   "cell_type": "code",
   "execution_count": 2,
   "id": "69f8ec75-9f49-4d3b-94f2-1bd58289204e",
   "metadata": {},
   "outputs": [],
   "source": [
    "def spearman(x,y):\n",
    "    return spearmanr(x,y)"
   ]
  },
  {
   "cell_type": "code",
   "execution_count": 3,
   "id": "07248bd1-c42c-49c0-98c6-d9c4c16afa39",
   "metadata": {},
   "outputs": [],
   "source": [
    "def multi_class_spearman(true, pred):\n",
    "    return spearman(true, pred)"
   ]
  },
  {
   "cell_type": "code",
   "execution_count": 4,
   "id": "35276600-fe85-442a-8744-37e01f90b3e9",
   "metadata": {},
   "outputs": [],
   "source": [
    "def multi_class_roc_auc(true, pred, average = 'macro'):\n",
    "    #print(true)\n",
    "    return roc_auc_score(true, pred, average = average)"
   ]
  },
  {
   "cell_type": "code",
   "execution_count": 5,
   "id": "779bb472-0761-4829-9006-4b6f7f76d90d",
   "metadata": {},
   "outputs": [],
   "source": [
    "train = pd.read_csv(source_folder+'/train.csv', sep=',')\n",
    "valid = pd.read_csv(source_folder+'/valid.csv', sep=',')\n",
    "test = pd.read_csv(source_folder+'/test.csv', sep=',')"
   ]
  },
  {
   "cell_type": "code",
   "execution_count": 6,
   "id": "cc62fa47-d581-4485-bcd7-b6ddc2382bb2",
   "metadata": {},
   "outputs": [],
   "source": [
    "train['comment'] = train['comment'].str.lower()\n",
    "valid['comment'] = valid['comment'].str.lower()\n",
    "test['comment'] = test['comment'].str.lower()"
   ]
  },
  {
   "cell_type": "code",
   "execution_count": 7,
   "id": "c32dad8f-c43d-43e8-b46a-77575d887f0f",
   "metadata": {},
   "outputs": [],
   "source": [
    "X_train = train['comment']\n",
    "y_train = train['attack'].values\n",
    "\n",
    "X_test = test['comment']\n",
    "y_test = test['attack'].values"
   ]
  },
  {
   "cell_type": "code",
   "execution_count": 8,
   "id": "93adb786-4f49-4c33-ac19-7218eb9527d1",
   "metadata": {},
   "outputs": [],
   "source": [
    "pipeline = Pipeline([\n",
    "    ('vect', CountVectorizer(binary=True, analyzer='char', ngram_range=(1,5), min_df = 10, max_df = 0.95)),\n",
    "    ('tfidf', TfidfTransformer(sublinear_tf=True)),\n",
    "    ('clf', LogisticRegression(C=10, max_iter=1000))\n",
    "])"
   ]
  },
  {
   "cell_type": "code",
   "execution_count": 9,
   "id": "567cf1a7-8da2-4c0a-974b-bf9c0d8d627d",
   "metadata": {},
   "outputs": [],
   "source": [
    "train_feature_set=pipeline.fit(train['comment'].values, y_train).predict(train['comment'].values)\n",
    "test_feature_set=pipeline.fit(test['comment'].values, y_test).predict(test['comment'].values)"
   ]
  },
  {
   "cell_type": "code",
   "execution_count": 10,
   "id": "a7b6a5db-9bea-430a-bf4e-f50a596037a5",
   "metadata": {},
   "outputs": [],
   "source": [
    "y_pred = pipeline.predict(test['comment'].values)"
   ]
  },
  {
   "cell_type": "code",
   "execution_count": 11,
   "id": "a2e4f12c-c4fc-44e5-90a6-027ba7396222",
   "metadata": {},
   "outputs": [
    {
     "name": "stdout",
     "output_type": "stream",
     "text": [
      "Spearman:  SpearmanrResult(correlation=0.9648226612344294, pvalue=0.0)\n",
      "AUC score:  0.9723111973462965\n"
     ]
    }
   ],
   "source": [
    "print(\"Spearman: \", multi_class_spearman(y_test, y_pred))\n",
    "print(\"AUC score: \", multi_class_roc_auc(y_test, y_pred))"
   ]
  },
  {
   "cell_type": "code",
   "execution_count": 12,
   "id": "37e9e7cd-9ad6-4b2f-b3f4-a78b8f3451ff",
   "metadata": {},
   "outputs": [
    {
     "name": "stdout",
     "output_type": "stream",
     "text": [
      "Feature:   ! Score:  0.05052712892135214\n",
      "Feature:   !  Score:  -0.58502553683406\n",
      "Feature:   ! w Score:  -0.09210648387902247\n",
      "Feature:   !! Score:  0.9163146177809893\n",
      "Feature:   !!  Score:  -0.19134526639608243\n",
      "Feature:   !!! Score:  0.6913761837870611\n",
      "Feature:   !!!  Score:  0.3262956120713321\n",
      "Feature:   !!!! Score:  0.4333196014029083\n",
      "Feature:   !n Score:  -0.3256463054988873\n",
      "Feature:   !ne Score:  -0.3256463054988873\n"
     ]
    }
   ],
   "source": [
    "feature_importance = pipeline['clf'].coef_[0][:10]\n",
    "for i,v in enumerate(feature_importance):\n",
    "    print('Feature: ', list(pipeline['vect'].vocabulary_.keys())[list(pipeline['vect'].vocabulary_.values()).index(i)], 'Score: ', v)"
   ]
  },
  {
   "cell_type": "code",
   "execution_count": 13,
   "id": "72371276-9f53-413b-9a85-6e5b1752e453",
   "metadata": {},
   "outputs": [],
   "source": [
    "feature_importance = pipeline['clf'].coef_[0]\n",
    "sorted_idx = np.argsort(feature_importance)"
   ]
  },
  {
   "cell_type": "code",
   "execution_count": 14,
   "id": "b68ddb7f-c826-4746-b367-84fa715a91ea",
   "metadata": {},
   "outputs": [
    {
     "name": "stdout",
     "output_type": "stream",
     "text": [
      "['uck', 'fuc', 'fuck', 'uc', 'shit', ' fuc', ' fuck', 'suck', ' suck', 'uck ']\n"
     ]
    }
   ],
   "source": [
    "top_10_attack = [list(pipeline['vect'].vocabulary_.keys())[list(pipeline['vect'].vocabulary_.values()).index(w)] for w in sorted_idx[range(-1,-11, -1)]]\n",
    "print(top_10_attack)"
   ]
  },
  {
   "cell_type": "code",
   "execution_count": 15,
   "id": "c426dcb2-654d-499d-a020-8e4cbe80b891",
   "metadata": {},
   "outputs": [
    {
     "name": "stderr",
     "output_type": "stream",
     "text": [
      "/opt/homebrew/Caskroom/miniforge/base/envs/pytorch_env/lib/python3.8/site-packages/seaborn/_decorators.py:36: FutureWarning: Pass the following variables as keyword args: x, y. From version 0.12, the only valid positional argument will be `data`, and passing other arguments without an explicit keyword will result in an error or misinterpretation.\n",
      "  warnings.warn(\n"
     ]
    },
    {
     "data": {
      "image/png": "[encoded data removed]",
      "text/plain": [
       "<Figure size 720x432 with 1 Axes>"
      ]
     },
     "metadata": {},
     "output_type": "display_data"
    }
   ],
   "source": [
    "sns.set_theme(style=\"whitegrid\")\n",
    "fig = plt.figure(figsize=(10, 6))\n",
    "ax = sns.barplot(top_10_attack, feature_importance[sorted_idx[range(-1,-11, -1)]], palette=\"mako\")\n",
    "plt.title(\"10 most important words used for attacking comments\",fontsize = 15)\n",
    "x_locs,x_labels = plt.xticks()\n",
    "plt.setp(x_labels, rotation = 40)\n",
    "plt.ylabel('Feature Importance', fontsize = 12)\n",
    "plt.xlabel('Word', fontsize = 12);\n",
    "plt.savefig('Figures/AttackWordVectors.png')"
   ]
  },
  {
   "cell_type": "code",
   "execution_count": 16,
   "id": "779fa149-1ffe-4eac-ab46-3d540fcd8719",
   "metadata": {},
   "outputs": [
    {
     "data": {
      "text/plain": [
       "0.929"
      ]
     },
     "execution_count": 16,
     "metadata": {},
     "output_type": "execute_result"
    }
   ],
   "source": [
    "sub_f = train.loc[train.comment.str.contains('fuck')]\n",
    "round(sub_f.attack.mean(),3)"
   ]
  },
  {
   "cell_type": "code",
   "execution_count": 17,
   "id": "acbb5c89-0544-4cf2-b2fc-2c0866644aa5",
   "metadata": {},
   "outputs": [
    {
     "name": "stdout",
     "output_type": "stream",
     "text": [
      "['?', ':', '. ', 'hank ', 'ank ', 'the b', 'ank y', 'i do', 'the p', 'hank']\n"
     ]
    }
   ],
   "source": [
    "top_10_non_attack = [list(pipeline['vect'].vocabulary_.keys())[list(pipeline['vect'].vocabulary_.values()).index(w)] for w in sorted_idx[:10]]\n",
    "print(top_10_non_attack)"
   ]
  },
  {
   "cell_type": "code",
   "execution_count": 18,
   "id": "3bb3b11d-cda3-46f3-bff0-59d27a65e577",
   "metadata": {},
   "outputs": [
    {
     "name": "stderr",
     "output_type": "stream",
     "text": [
      "/opt/homebrew/Caskroom/miniforge/base/envs/pytorch_env/lib/python3.8/site-packages/seaborn/_decorators.py:36: FutureWarning: Pass the following variables as keyword args: x, y. From version 0.12, the only valid positional argument will be `data`, and passing other arguments without an explicit keyword will result in an error or misinterpretation.\n",
      "  warnings.warn(\n"
     ]
    },
    {
     "data": {
      "image/png": "[encoded data removed]",
      "text/plain": [
       "<Figure size 720x432 with 1 Axes>"
      ]
     },
     "metadata": {},
     "output_type": "display_data"
    }
   ],
   "source": [
    "sns.set_theme(style=\"whitegrid\")\n",
    "fig = plt.figure(figsize=(10, 6))\n",
    "ax = sns.barplot(top_10_non_attack, feature_importance[sorted_idx[:10]], palette=\"crest\")\n",
    "plt.title(\"10 most important words used for non-attacking comments\",fontsize = 15)\n",
    "x_locs,x_labels = plt.xticks()\n",
    "plt.setp(x_labels, rotation = 40)\n",
    "plt.ylabel('Feature Importance', fontsize = 12)\n",
    "plt.xlabel('Word', fontsize = 12);\n",
    "plt.savefig('Figures/NonAttackWordVectors.png')"
   ]
  }
 ],
 "metadata": {
  "kernelspec": {
   "display_name": "Python 3 (ipykernel)",
   "language": "python",
   "name": "python3"
  },
  "language_info": {
   "codemirror_mode": {
    "name": "ipython",
    "version": 3
   },
   "file_extension": ".py",
   "mimetype": "text/x-python",
   "name": "python",
   "nbconvert_exporter": "python",
   "pygments_lexer": "ipython3",
   "version": "3.8.12"
  }
 },
 "nbformat": 4,
 "nbformat_minor": 5
}
